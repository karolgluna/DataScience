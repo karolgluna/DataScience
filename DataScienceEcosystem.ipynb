{
 "cells": [
  {
   "cell_type": "markdown",
   "id": "b8d9c47d-a4b6-4b27-8342-3098f5f7889d",
   "metadata": {},
   "source": [
    "# Data Science Tools and Ecosystem"
   ]
  },
  {
   "cell_type": "markdown",
   "id": "194ac9fc-ce81-420c-8754-0ac52a5830d9",
   "metadata": {},
   "source": [
    "## En este cuaderno, se resumen las herramientas y ecosistemas de ciencia de datos."
   ]
  },
  {
   "cell_type": "markdown",
   "id": "651b88f4-8c14-4926-9a6b-791eeedeb2df",
   "metadata": {},
   "source": [
    "# _Objetivos:_ \n",
    "- Listar lenguajes populares para Ciencia de datos\n",
    "- Listar bibliotecas comunmente utilizadas por los cientificos de datos\n",
    "- Listar Herramientas comunmente usadas en ciencia de datos\n",
    "- Incluir ejemplos de evaluacion de expresiones aritmeticas"
   ]
  },
  {
   "cell_type": "markdown",
   "id": "9ca45c4c-cbeb-44a4-994a-a5aa3cf572d8",
   "metadata": {},
   "source": [
    "# _Objetivos:_ \n",
    "- Listar lenguajes populares para Ciencia de datos\n",
    "- Listar bibliotecas comunmente utilizadas por los cientificos de datos\n",
    "- Listar Herramientas comunmente usadas en ciencia de datos\n",
    "- Incluir ejemplos de evaluacion de expresiones aritmeticas"
   ]
  },
  {
   "cell_type": "markdown",
   "id": "3d0e169f-da08-4640-af75-562a763cc080",
   "metadata": {},
   "source": [
    "## Algunos de los lenguajes populares que utilizan los científicos de datos son:\n",
    "1. Python\n",
    "2. R\n",
    "3. SQL"
   ]
  },
  {
   "cell_type": "markdown",
   "id": "b8f12389-588c-401f-a767-f61c18cfc096",
   "metadata": {},
   "source": [
    "## Algunos de los lenguajes populares que utilizan los científicos de datos son:\n",
    "1. Python\n",
    "2. R\n",
    "3. SQL"
   ]
  },
  {
   "cell_type": "markdown",
   "id": "dd3a0ec3-1212-4e99-811c-b81d2c6ec725",
   "metadata": {},
   "source": [
    "## Algunas de las bibliotecas comúnmente utilizadas por los científicos de datos incluyen:\n",
    "1. Pandas\n",
    "2. Numpy\n",
    "3. Plotly"
   ]
  },
  {
   "cell_type": "markdown",
   "id": "c9a0c90e-8f73-4c24-90c5-4978d21e1514",
   "metadata": {},
   "source": [
    "## Algunas de las bibliotecas comúnmente utilizadas por los científicos de datos incluyen:\n",
    "1. Pandas\n",
    "2. Numpy\n",
    "3. Plotly"
   ]
  },
  {
   "cell_type": "markdown",
   "id": "6e83e2a3-6631-4777-a406-876cd1487af0",
   "metadata": {},
   "source": [
    "| Herramientas de Ciencia de Datos|\n",
    "| -------------|\n",
    "| Apache Spark|\n",
    "| Power BI |\n",
    "| Tableau |"
   ]
  },
  {
   "cell_type": "markdown",
   "id": "42fd0585-998c-4268-8ba6-5d064cdaa46e",
   "metadata": {},
   "source": [
    "| Herramientas de Ciencia de Datos|\n",
    "| -------------|\n",
    "| Apache Spark|\n",
    "| Power BI |\n",
    "| Tableau |"
   ]
  },
  {
   "cell_type": "markdown",
   "id": "9fb8b4c9-fffc-429b-954b-fb2c2b374341",
   "metadata": {},
   "source": [
    "### A continuación, se presentan algunos ejemplos de evaluación de expresiones aritméticas en Python\n",
    "- Multiplicacion: 3*5\n",
    "- Adicion: 400+8\n",
    "- Resta: 900-1090"
   ]
  },
  {
   "cell_type": "markdown",
   "id": "b99a6d53-e883-4ec9-919c-b99d3f762ef1",
   "metadata": {},
   "source": [
    "### A continuación, se presentan algunos ejemplos de evaluación de expresiones aritméticas en Python\n",
    "- Multiplicacion: 3*5\n",
    "- Adicion: 400+8\n",
    "- Resta: 900-1090"
   ]
  },
  {
   "cell_type": "code",
   "execution_count": 12,
   "id": "2bfc8df6-e143-4fcc-887b-21caa607a9cb",
   "metadata": {},
   "outputs": [
    {
     "data": {
      "text/plain": [
       "17"
      ]
     },
     "execution_count": 12,
     "metadata": {},
     "output_type": "execute_result"
    }
   ],
   "source": [
    "# Esta es una expresión aritmética simple para multiplicar y luego sumar enteros\n",
    "(3*4)+5"
   ]
  },
  {
   "cell_type": "code",
   "execution_count": 14,
   "id": "bfe50783-08a4-42b0-b438-0b358ff2d29e",
   "metadata": {},
   "outputs": [
    {
     "name": "stdout",
     "output_type": "stream",
     "text": [
      "200 min en horas son: 3.3333333333333335\n"
     ]
    }
   ],
   "source": [
    "# Esto convertirá 200 minutos a horas dividiendo por 60\n",
    "m = 200\n",
    "h = m/60\n",
    "print('200 min en horas son:', h)"
   ]
  },
  {
   "cell_type": "markdown",
   "id": "fd62a73e-afc4-4f00-9b50-cf53f00a4393",
   "metadata": {},
   "source": [
    "## Autor\n",
    "Karol Julieth Garcia Luna"
   ]
  },
  {
   "cell_type": "markdown",
   "id": "a48dffca-10f1-4619-8ab0-80d2efd5bb41",
   "metadata": {},
   "source": [
    "## Autor\n",
    "Karol Julieth Garcia Luna"
   ]
  },
  {
   "cell_type": "code",
   "execution_count": null,
   "id": "d55e6037-e7ca-42f1-a066-253737e81844",
   "metadata": {},
   "outputs": [],
   "source": []
  }
 ],
 "metadata": {
  "kernelspec": {
   "display_name": "Python [conda env:base] *",
   "language": "python",
   "name": "conda-base-py"
  },
  "language_info": {
   "codemirror_mode": {
    "name": "ipython",
    "version": 3
   },
   "file_extension": ".py",
   "mimetype": "text/x-python",
   "name": "python",
   "nbconvert_exporter": "python",
   "pygments_lexer": "ipython3",
   "version": "3.11.7"
  }
 },
 "nbformat": 4,
 "nbformat_minor": 5
}
